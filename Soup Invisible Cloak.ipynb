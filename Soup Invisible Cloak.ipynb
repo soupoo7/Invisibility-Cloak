{
 "cells": [
  {
   "cell_type": "code",
   "execution_count": 5,
   "id": "d7801c49",
   "metadata": {},
   "outputs": [],
   "source": [
    "import cv2\n",
    "import time\n",
    "import numpy as np"
   ]
  },
  {
   "cell_type": "code",
   "execution_count": 6,
   "id": "19d09c39",
   "metadata": {},
   "outputs": [],
   "source": [
    "cap = cv2.VideoCapture(0)\n",
    "time.sleep(2)\n",
    "background = 0"
   ]
  },
  {
   "cell_type": "code",
   "execution_count": 7,
   "id": "d6df94e2",
   "metadata": {},
   "outputs": [],
   "source": [
    "for i in range(50):\n",
    "    ret, background = cap.read()"
   ]
  },
  {
   "cell_type": "code",
   "execution_count": 8,
   "id": "d49240e7",
   "metadata": {},
   "outputs": [],
   "source": [
    "while(cap.isOpened()):\n",
    "    ret, img = cap.read()\n",
    "    if not ret:\n",
    "        break\n",
    "    hsv = cv2.cvtColor(img,cv2.COLOR_BGR2HSV)\n",
    "    #Things that comes under the while loop\n",
    "    lower_orange = np.array([0,120,70])\n",
    "    upper_orange = np.array([10,255,255])\n",
    "    mask1 = cv2.inRange(hsv, lower_orange, upper_orange)\n",
    "    \n",
    "    lower_orange = np.array([170,120,70])\n",
    "    upper_orange = np.array([180,255,255])\n",
    "    mask2 = cv2.inRange(hsv, lower_orange, upper_orange) \n",
    "    \n",
    "    mask1 = mask1+mask2\n",
    "    \n",
    "    kernel = np.ones( (3,3), dtype=np.uint8 )\n",
    "    \n",
    "    mask1 = cv2.morphologyEx(mask1,cv2.MORPH_OPEN,kernel, iterations=4)\n",
    "    mask1 = cv2.morphologyEx(mask1,cv2.MORPH_OPEN,kernel, iterations=4)\n",
    "    \n",
    "    mask2 = cv2.bitwise_not(mask1)\n",
    "    res1 = cv2.bitwise_and(background,background,mask=mask1)\n",
    "                             \n",
    "    res2 = cv2.bitwise_and(img,img,mask=mask2)\n",
    "    final_output = cv2.addWeighted(res1,1,res2,1,0)\n",
    "    cv2.imshow('Invisible Cloak', final_output) \n",
    "    k = cv2.waitKey(10)\n",
    "    if k==13:\n",
    "        break\n",
    "                             \n",
    "cap.release()\n",
    "cv2.destroyAllWindows()"
   ]
  },
  {
   "cell_type": "code",
   "execution_count": null,
   "id": "99b00060",
   "metadata": {},
   "outputs": [],
   "source": [
    "\n"
   ]
  },
  {
   "cell_type": "code",
   "execution_count": null,
   "id": "892cfde3",
   "metadata": {},
   "outputs": [],
   "source": []
  },
  {
   "cell_type": "code",
   "execution_count": null,
   "id": "7f8b0ffd",
   "metadata": {},
   "outputs": [],
   "source": []
  },
  {
   "cell_type": "code",
   "execution_count": null,
   "id": "d224f576",
   "metadata": {},
   "outputs": [],
   "source": []
  },
  {
   "cell_type": "code",
   "execution_count": null,
   "id": "6feaeca7",
   "metadata": {},
   "outputs": [],
   "source": []
  },
  {
   "cell_type": "code",
   "execution_count": null,
   "id": "86d39eb9",
   "metadata": {},
   "outputs": [],
   "source": []
  },
  {
   "cell_type": "code",
   "execution_count": null,
   "id": "768bef7d",
   "metadata": {},
   "outputs": [],
   "source": []
  }
 ],
 "metadata": {
  "kernelspec": {
   "display_name": "Python 3",
   "language": "python",
   "name": "python3"
  },
  "language_info": {
   "codemirror_mode": {
    "name": "ipython",
    "version": 3
   },
   "file_extension": ".py",
   "mimetype": "text/x-python",
   "name": "python",
   "nbconvert_exporter": "python",
   "pygments_lexer": "ipython3",
   "version": "3.8.8"
  }
 },
 "nbformat": 4,
 "nbformat_minor": 5
}
